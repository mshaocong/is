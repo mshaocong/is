{
 "cells": [
  {
   "cell_type": "markdown",
   "metadata": {},
   "source": [
    "# Defaultable Bond Model\n",
    "\n",
    "In this note, I will introduce an application of simulation in the defaultable bond model. Assume we have two CIR process\n",
    "$$d r^{(i)} = a_i(b_i-r^{(i)})d t + \\sigma_i \\sqrt{r^{(i)}}d W_t^{(i)}$$\n",
    "where $W^{(i)}$ are independent.\n",
    "\n",
    "Now assume we have a bond with the interest rate $r$, \n",
    "$$r = r^{(1)}$$\n",
    "And this bond is defaultable with default time $\\tau$; and $\\lambda$ is the intensity for $1_{\\{ \\tau<t \\}}$. Assume \n",
    "$$\\lambda = \\sqrt{c} r^{(1)} + \\sqrt{1-c}r^{(2)}$$\n",
    "\n",
    "## Main Problem: Pricing the defaultable bond\n",
    "\n",
    "Notice that under our setting, **the default time is related to the interest rate.** "
   ]
  },
  {
   "cell_type": "code",
   "execution_count": 49,
   "metadata": {},
   "outputs": [],
   "source": [
    "%matplotlib inline\n",
    "import numpy as np\n",
    "import matplotlib.pyplot as plt\n",
    "from mc_generator import *"
   ]
  },
  {
   "cell_type": "markdown",
   "metadata": {},
   "source": [
    "## Pricing the simplest case \n",
    "\n",
    "First, we assume the bond will not be defaulted. Because it is a CIR process, its price can be computed explicitly (see [here](https://en.wikipedia.org/wiki/Cox%E2%80%93Ingersoll%E2%80%93Ross_model#Bond_pricing))\n",
    "\n",
    "Now we want to compare the theoritical result and the simulation result."
   ]
  },
  {
   "cell_type": "code",
   "execution_count": 50,
   "metadata": {},
   "outputs": [],
   "source": [
    "# Theoritical solution\n",
    "def _h(t, T, a, b, sigma):\n",
    "    return np.sqrt( a**2 + 2* sigma**2 )\n",
    "\n",
    "def _A(t, T, a, b, sigma):\n",
    "    h = _h( t, T, a, b, sigma )\n",
    "    numerator = 2* h * np.exp( (a+h)*(T-t)/2 )\n",
    "    denominator = 2*h+(a+h)*( np.exp((T-t)*h) - 1 )\n",
    "    power = 2*a*b/(sigma**2)\n",
    "    return (numerator/denominator)**power\n",
    "\n",
    "def _B(t, T, a, b, sigma):\n",
    "    h = _h( t, T, a, b, sigma )\n",
    "    numerator = 2*( np.exp((T-t)/h) - 1 )\n",
    "    denominator = 2*h+(a+h)*( np.exp((T-t)/h) - 1 )\n",
    "    return numerator/denominator\n",
    "\n",
    "def price_at_t(r_t, t, T, a, b, sigma):\n",
    "    A = _A(t, T, a, b, sigma)\n",
    "    B = _B(t, T, a, b, sigma)\n",
    "    return A*np.exp(-B*r_t)\n",
    "\n",
    "def _price(T, a, b, sigma):\n",
    "    A = _A(0, T, a, b, sigma)\n",
    "    B = _B(0, T, a, b, sigma)\n",
    "    return A*np.exp(-B)"
   ]
  },
  {
   "cell_type": "code",
   "execution_count": 51,
   "metadata": {},
   "outputs": [
    {
     "data": {
      "text/plain": [
       "[<matplotlib.lines.Line2D at 0x1a373b2ee48>]"
      ]
     },
     "execution_count": 51,
     "metadata": {},
     "output_type": "execute_result"
    },
    {
     "data": {
      "image/png": "[encoded data removed]",
      "text/plain": [
       "<Figure size 432x288 with 1 Axes>"
      ]
     },
     "metadata": {
      "needs_background": "light"
     },
     "output_type": "display_data"
    }
   ],
   "source": [
    "num_trails = 150\n",
    "\n",
    "#Plot the price of bond with CIR interest rate\n",
    "a = 1.0\n",
    "b = 1.2\n",
    "sigma = 0.2\n",
    "T = 2.0\n",
    "\n",
    "time = np.linspace(0.01,T,num_trails)\n",
    "p_th = [] \n",
    "for maturity in time:\n",
    "    #compute the price of bond at time 0 \n",
    "    p_th.append( _price(maturity, a, b, sigma))\n",
    "    \n",
    "plt.plot(time,p_th,'r')"
   ]
  },
  {
   "cell_type": "code",
   "execution_count": 59,
   "metadata": {},
   "outputs": [
    {
     "data": {
      "text/plain": [
       "[<matplotlib.lines.Line2D at 0x1a373c5a940>]"
      ]
     },
     "execution_count": 59,
     "metadata": {},
     "output_type": "execute_result"
    },
    {
     "data": {
      "image/png": "[encoded data removed]",
      "text/plain": [
       "<Figure size 432x288 with 1 Axes>"
      ]
     },
     "metadata": {
      "needs_background": "light"
     },
     "output_type": "display_data"
    }
   ],
   "source": [
    "# Simulation result - Monte Carlo simulation\n",
    "\n",
    "# Define the time change A_t\n",
    "def A(t, intensity):\n",
    "    time = 0\n",
    "    A_t = 0\n",
    "    for s,lambda_s in zip(intensity.time, intensity.simulation):\n",
    "        A_t += lambda_s * (s - time)\n",
    "        time = s\n",
    "        if time > t:\n",
    "            break\n",
    "    return A_t\n",
    "\n",
    "\n",
    "def price(T, lambda_, a, b, sigma, num_trails = num_trails):\n",
    "    sum_of_simulation = 0\n",
    "    for n in range(num_trails):\n",
    "        #simulate r_s\n",
    "        r = CIR(a, b, sigma, 1)\n",
    "        r.simulate(num_trails=num_trails, start_time=0.0, end_time=T)\n",
    "        #compute e^{-\\lambda \\int^T_0 r_s ds}\n",
    "        sum_of_simulation += np.exp( -lambda_ * A(T, r) )\n",
    "    price = sum_of_simulation/num_trails \n",
    "    return price\n",
    "\n",
    "T = 2\n",
    "time = np.linspace(0.01,T,num_trails)\n",
    "lambda_ =  1\n",
    "p = []\n",
    "for t in time:\n",
    "    p.append(price(t, lambda_, a, b, sigma) )\n",
    "plt.plot( time, p_th, 'r' )\n",
    "plt.plot( time, p, 'b' )"
   ]
  },
  {
   "cell_type": "markdown",
   "metadata": {},
   "source": [
    "With num_trails=150, the simulation result is very closed to the true result. And if we increse the num_trails, the graph will be much nicer.   \n",
    "\n",
    "# Pricing Defaultable Bond\n",
    "\n",
    "Now we assume the bond is defaultable. The theoritical price could be computed using the following code: "
   ]
  },
  {
   "cell_type": "code",
   "execution_count": 64,
   "metadata": {},
   "outputs": [],
   "source": [
    "def change_parameters(c, a,b, sigma):\n",
    "    return a, c*b, sigma/np.sqrt(c)\n",
    " \n",
    "def price_d(T, a, b, sigma, c):\n",
    "    a1,b1,sigma1 = change_parameters(np.sqrt(1-c), a,b, sigma)\n",
    "    p1 = _price(T, a1, b1, sigma1)\n",
    "    \n",
    "    a2,b2,sigma2 = change_parameters(np.sqrt(c)+1, a,b, sigma)\n",
    "    p2 = _price(T, a2, b2, sigma2)\n",
    "    \n",
    "    return p1*p2\n",
    "\n",
    "def price_sim(T, a, b, sigma, c, num_trails): \n",
    "    return price(T, np.sqrt(1-c), a, b, sigma, num_trails) *  price(T, np.sqrt(c)+1, a, b, sigma, num_trails)"
   ]
  },
  {
   "cell_type": "code",
   "execution_count": 65,
   "metadata": {},
   "outputs": [
    {
     "data": {
      "text/plain": [
       "[<matplotlib.lines.Line2D at 0x1a373e1cdd8>]"
      ]
     },
     "execution_count": 65,
     "metadata": {},
     "output_type": "execute_result"
    },
    {
     "data": {
      "image/png": "[encoded data removed]",
      "text/plain": [
       "<Figure size 432x288 with 1 Axes>"
      ]
     },
     "metadata": {
      "needs_background": "light"
     },
     "output_type": "display_data"
    }
   ],
   "source": [
    "c = 0.5\n",
    "p_the = []\n",
    "p_sim = []\n",
    "for t in time:\n",
    "    p_the.append(price_d(t, a, b, sigma, c) )\n",
    "    p_sim.append(price_sim(t, c, a, b, sigma, num_trails) )\n",
    "plt.plot( time, p_the, 'r' )\n",
    "plt.plot( time, p_sim, 'b' )"
   ]
  }
 ],
 "metadata": {
  "kernelspec": {
   "display_name": "Python 3",
   "language": "python",
   "name": "python3"
  },
  "language_info": {
   "codemirror_mode": {
    "name": "ipython",
    "version": 3
   },
   "file_extension": ".py",
   "mimetype": "text/x-python",
   "name": "python",
   "nbconvert_exporter": "python",
   "pygments_lexer": "ipython3",
   "version": "3.6.7"
  }
 },
 "nbformat": 4,
 "nbformat_minor": 2
}
